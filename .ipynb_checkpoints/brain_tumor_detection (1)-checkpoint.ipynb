{
 "cells": [
  {
   "cell_type": "code",
   "execution_count": 4,
   "metadata": {
    "id": "MmP6OHTn-u3t"
   },
   "outputs": [],
   "source": [
    "#!unzip \"/content/drive/MyDrive/Brain Tumor sana/brain-tumor-detection.zip\" -d \"/content/drive/MyDrive/Brain Tumor sana\""
   ]
  },
  {
   "cell_type": "code",
   "execution_count": 1,
   "metadata": {
    "id": "ii3g7kM4_AP9"
   },
   "outputs": [
    {
     "ename": "ModuleNotFoundError",
     "evalue": "No module named 'tensorflow'",
     "output_type": "error",
     "traceback": [
      "\u001b[1;31m---------------------------------------------------------------------------\u001b[0m",
      "\u001b[1;31mModuleNotFoundError\u001b[0m                       Traceback (most recent call last)",
      "Input \u001b[1;32mIn [1]\u001b[0m, in \u001b[0;36m<cell line: 2>\u001b[1;34m()\u001b[0m\n\u001b[0;32m      1\u001b[0m \u001b[38;5;28;01mimport\u001b[39;00m \u001b[38;5;21;01mnumpy\u001b[39;00m \u001b[38;5;28;01mas\u001b[39;00m \u001b[38;5;21;01mnp\u001b[39;00m\n\u001b[1;32m----> 2\u001b[0m \u001b[38;5;28;01mimport\u001b[39;00m \u001b[38;5;21;01mtensorflow\u001b[39;00m \u001b[38;5;28;01mas\u001b[39;00m \u001b[38;5;21;01mtf\u001b[39;00m\n\u001b[0;32m      4\u001b[0m \u001b[38;5;28;01mfrom\u001b[39;00m \u001b[38;5;21;01mkeras\u001b[39;00m\u001b[38;5;21;01m.\u001b[39;00m\u001b[38;5;21;01mpreprocessing\u001b[39;00m\u001b[38;5;21;01m.\u001b[39;00m\u001b[38;5;21;01mimage\u001b[39;00m \u001b[38;5;28;01mimport\u001b[39;00m ImageDataGenerator\n",
      "\u001b[1;31mModuleNotFoundError\u001b[0m: No module named 'tensorflow'"
     ]
    }
   ],
   "source": [
    "import numpy as np\n",
    "import tensorflow as tf\n",
    "\n",
    "from keras.preprocessing.image import ImageDataGenerator"
   ]
  },
  {
   "cell_type": "code",
   "execution_count": 7,
   "metadata": {
    "colab": {
     "base_uri": "https://localhost:8080/"
    },
    "id": "HcU1uiLY_DtZ",
    "outputId": "8e9e71b9-fd7f-4d03-938f-25b52efc6bfc"
   },
   "outputs": [
    {
     "name": "stdout",
     "output_type": "stream",
     "text": [
      "Found 215 images belonging to 2 classes.\n"
     ]
    }
   ],
   "source": [
    "train_datagen = ImageDataGenerator(\n",
    "    rescale=1./255,\n",
    "    shear_range = 0.2,\n",
    "    zoom_range = 0.2,\n",
    "    horizontal_flip=True)\n",
    "\n",
    "train = \"/content/drive/MyDrive/Brain Tumor sana/Dataset/train\"\n",
    "training_set = train_datagen.flow_from_directory(train, target_size=(224,224),\n",
    "                                                 batch_size=32,shuffle=True,class_mode='binary')\n"
   ]
  },
  {
   "cell_type": "code",
   "execution_count": 8,
   "metadata": {
    "colab": {
     "base_uri": "https://localhost:8080/"
    },
    "id": "wz5Fyxix_VSc",
    "outputId": "313d1a70-f9b5-40ff-ac28-d34c4a0a7643"
   },
   "outputs": [
    {
     "name": "stdout",
     "output_type": "stream",
     "text": [
      "Found 32 images belonging to 2 classes.\n"
     ]
    }
   ],
   "source": [
    "test = \"/content/drive/MyDrive/Brain Tumor sana/Dataset/test\"\n",
    "test_datagen = ImageDataGenerator(rescale=1./255)\n",
    "test_set = test_datagen.flow_from_directory(test, target_size=(224,224),\n",
    "                                            batch_size=16,shuffle=False,class_mode='binary')\n"
   ]
  },
  {
   "cell_type": "code",
   "execution_count": 9,
   "metadata": {
    "id": "ci7pDfJI_XpO"
   },
   "outputs": [],
   "source": [
    "cnn = tf.keras.models.Sequential()\n",
    " \n",
    "cnn.add(tf.keras.layers.Conv2D(filters=224 , kernel_size=3 , activation='relu' , input_shape=[224,224,3]))\n",
    "cnn.add(tf.keras.layers.MaxPool2D(pool_size=2,strides=2))\n",
    " \n",
    "cnn.add(tf.keras.layers.Conv2D(filters=224 , kernel_size=3 , activation='relu' ))\n",
    "cnn.add(tf.keras.layers.MaxPool2D(pool_size=2 , strides=2))\n",
    " \n",
    "cnn.add(tf.keras.layers.Dropout(0.5))\n",
    "cnn.add(tf.keras.layers.Flatten())\n",
    "cnn.add(tf.keras.layers.Dense(units=128, activation='relu'))\n",
    "cnn.add(tf.keras.layers.Dense(units=1 , activation='sigmoid'))\n",
    "cnn.compile(optimizer = 'Adam' , loss = 'binary_crossentropy' , metrics = ['accuracy'])"
   ]
  },
  {
   "cell_type": "code",
   "execution_count": 10,
   "metadata": {
    "colab": {
     "base_uri": "https://localhost:8080/"
    },
    "id": "2t8q-tR2_b5d",
    "outputId": "a675c460-0dd5-4593-d442-e8ebaa9f24b0"
   },
   "outputs": [
    {
     "name": "stdout",
     "output_type": "stream",
     "text": [
      "Model: \"sequential\"\n",
      "_________________________________________________________________\n",
      " Layer (type)                Output Shape              Param #   \n",
      "=================================================================\n",
      " conv2d (Conv2D)             (None, 222, 222, 224)     6272      \n",
      "                                                                 \n",
      " max_pooling2d (MaxPooling2D  (None, 111, 111, 224)    0         \n",
      " )                                                               \n",
      "                                                                 \n",
      " conv2d_1 (Conv2D)           (None, 109, 109, 224)     451808    \n",
      "                                                                 \n",
      " max_pooling2d_1 (MaxPooling  (None, 54, 54, 224)      0         \n",
      " 2D)                                                             \n",
      "                                                                 \n",
      " dropout (Dropout)           (None, 54, 54, 224)       0         \n",
      "                                                                 \n",
      " flatten (Flatten)           (None, 653184)            0         \n",
      "                                                                 \n",
      " dense (Dense)               (None, 128)               83607680  \n",
      "                                                                 \n",
      " dense_1 (Dense)             (None, 1)                 129       \n",
      "                                                                 \n",
      "=================================================================\n",
      "Total params: 84,065,889\n",
      "Trainable params: 84,065,889\n",
      "Non-trainable params: 0\n",
      "_________________________________________________________________\n"
     ]
    }
   ],
   "source": [
    "cnn.summary()"
   ]
  },
  {
   "cell_type": "code",
   "execution_count": 11,
   "metadata": {
    "colab": {
     "base_uri": "https://localhost:8080/"
    },
    "id": "Cgtdudee_fyM",
    "outputId": "ed1ec53a-bdf1-454a-cc60-006405065c00"
   },
   "outputs": [
    {
     "name": "stdout",
     "output_type": "stream",
     "text": [
      "Epoch 1/10\n",
      "7/7 [==============================] - 178s 25s/step - loss: 2.9089 - accuracy: 0.5674 - val_loss: 0.6732 - val_accuracy: 0.5938\n",
      "Epoch 2/10\n",
      "7/7 [==============================] - 179s 26s/step - loss: 0.7262 - accuracy: 0.7349 - val_loss: 0.7036 - val_accuracy: 0.6250\n",
      "Epoch 3/10\n",
      "7/7 [==============================] - 171s 24s/step - loss: 0.6005 - accuracy: 0.7116 - val_loss: 0.6542 - val_accuracy: 0.6875\n",
      "Epoch 4/10\n",
      "7/7 [==============================] - 173s 25s/step - loss: 0.5992 - accuracy: 0.7116 - val_loss: 0.5824 - val_accuracy: 0.6875\n",
      "Epoch 5/10\n",
      "7/7 [==============================] - 177s 25s/step - loss: 0.5516 - accuracy: 0.7256 - val_loss: 0.5169 - val_accuracy: 0.6875\n",
      "Epoch 6/10\n",
      "7/7 [==============================] - 175s 25s/step - loss: 0.5379 - accuracy: 0.7302 - val_loss: 0.4867 - val_accuracy: 0.7812\n",
      "Epoch 7/10\n",
      "7/7 [==============================] - 170s 24s/step - loss: 0.5103 - accuracy: 0.7674 - val_loss: 0.5438 - val_accuracy: 0.6875\n",
      "Epoch 8/10\n",
      "7/7 [==============================] - 178s 25s/step - loss: 0.4673 - accuracy: 0.7628 - val_loss: 0.5217 - val_accuracy: 0.6875\n",
      "Epoch 9/10\n",
      "7/7 [==============================] - 174s 25s/step - loss: 0.4796 - accuracy: 0.7628 - val_loss: 0.4754 - val_accuracy: 0.8125\n",
      "Epoch 10/10\n",
      "7/7 [==============================] - 172s 24s/step - loss: 0.4566 - accuracy: 0.7814 - val_loss: 0.4686 - val_accuracy: 0.7812\n"
     ]
    },
    {
     "data": {
      "text/plain": [
       "<keras.callbacks.History at 0x7f97d5afdc40>"
      ]
     },
     "execution_count": 11,
     "metadata": {},
     "output_type": "execute_result"
    }
   ],
   "source": [
    "cnn.fit(x = training_set , validation_data = test_set , epochs = 10)"
   ]
  },
  {
   "cell_type": "code",
   "execution_count": 14,
   "metadata": {
    "colab": {
     "base_uri": "https://localhost:8080/"
    },
    "id": "y_lGoPpG_w8k",
    "outputId": "557f1d57-4a62-4357-97fd-be0046432ca8"
   },
   "outputs": [
    {
     "data": {
      "text/plain": [
       "{'no': 0, 'yes': 1}"
      ]
     },
     "execution_count": 14,
     "metadata": {},
     "output_type": "execute_result"
    }
   ],
   "source": [
    "training_set.class_indices"
   ]
  },
  {
   "cell_type": "code",
   "execution_count": 15,
   "metadata": {
    "colab": {
     "base_uri": "https://localhost:8080/"
    },
    "id": "aH_-iB3__xN5",
    "outputId": "adcfc091-a3b3-4c19-e4a1-e31a0e00fc52"
   },
   "outputs": [
    {
     "name": "stdout",
     "output_type": "stream",
     "text": [
      "1/1 [==============================] - 0s 379ms/step\n",
      "[[0.]]\n"
     ]
    }
   ],
   "source": [
    "from keras.preprocessing import image\n",
    "test_image = tf.keras.utils.load_img('/content/drive/MyDrive/Brain Tumor sana/Dataset/prediction/no1.jpg',\n",
    "                                     target_size=(224,224))\n",
    "\n",
    "test_image = tf.keras.utils.img_to_array(test_image)\n",
    "test_image = np.expand_dims(test_image,axis=0)\n",
    " \n",
    "result = cnn.predict(test_image)\n",
    "training_set.class_indices\n",
    "\n",
    "print(result)"
   ]
  },
  {
   "cell_type": "code",
   "execution_count": 16,
   "metadata": {
    "colab": {
     "base_uri": "https://localhost:8080/"
    },
    "id": "0lTD1Y5y_1BY",
    "outputId": "5cdde82f-11b3-44c2-d32b-e6598233bf88"
   },
   "outputs": [
    {
     "name": "stdout",
     "output_type": "stream",
     "text": [
      "no\n"
     ]
    }
   ],
   "source": [
    "if result[0][0] == 1:\n",
    "    print('yes')\n",
    "else:\n",
    "    print('no')"
   ]
  },
  {
   "cell_type": "code",
   "execution_count": null,
   "metadata": {
    "id": "hNz5mhA0wl8E"
   },
   "outputs": [],
   "source": []
  }
 ],
 "metadata": {
  "accelerator": "GPU",
  "colab": {
   "provenance": []
  },
  "gpuClass": "standard",
  "kernelspec": {
   "display_name": "Python 3 (ipykernel)",
   "language": "python",
   "name": "python3"
  },
  "language_info": {
   "codemirror_mode": {
    "name": "ipython",
    "version": 3
   },
   "file_extension": ".py",
   "mimetype": "text/x-python",
   "name": "python",
   "nbconvert_exporter": "python",
   "pygments_lexer": "ipython3",
   "version": "3.9.12"
  }
 },
 "nbformat": 4,
 "nbformat_minor": 1
}
